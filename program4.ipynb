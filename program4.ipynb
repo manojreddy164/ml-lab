{
 "cells": [
  {
   "cell_type": "code",
   "execution_count": 1,
   "id": "83097c99-2050-4226-b939-820c790d4a49",
   "metadata": {},
   "outputs": [],
   "source": [
    "import pandas as pd"
   ]
  },
  {
   "cell_type": "code",
   "execution_count": 2,
   "id": "3d44e63b-3d79-4c75-8a29-3b66d3c3173c",
   "metadata": {},
   "outputs": [],
   "source": [
    "data=pd.read_csv(\"training.csv\")"
   ]
  },
  {
   "cell_type": "code",
   "execution_count": 3,
   "id": "61929350-309e-43fe-a80d-9181027d2bad",
   "metadata": {},
   "outputs": [
    {
     "name": "stdout",
     "output_type": "stream",
     "text": [
      "  Experience Qualifications  Skills  Age Hired\n",
      "0        Yes        Masters  Python   30   Yes\n",
      "1        Yes      Bachelors  Python   25   Yes\n",
      "2         No      Bachelors    Java   28    No\n",
      "3        Yes        Masters    Java   40   Yes\n",
      "4         No        Masters  Python   35    No\n"
     ]
    }
   ],
   "source": [
    "print(data)"
   ]
  },
  {
   "cell_type": "code",
   "execution_count": 4,
   "id": "287712e6-2075-4471-a154-ce20867b1370",
   "metadata": {},
   "outputs": [],
   "source": [
    "def find_s_algo(data):\n",
    "    attributes=data.iloc[:,:-1].values\n",
    "    target=data.iloc[:,-1].values\n",
    "    for i in range(len(target)):\n",
    "        if target[i]==\"Yes\":\n",
    "            hypothesis=attributes[i].copy()\n",
    "            break\n",
    "    for i in range(len(target)):\n",
    "        if target[i]==\"Yes\":\n",
    "            for j in range(len(hypothesis)):\n",
    "                if hypothesis[j]!=attributes[i][j]:\n",
    "                    hypothesis[j]='?'\n",
    "    return hypothesis"
   ]
  },
  {
   "cell_type": "code",
   "execution_count": 5,
   "id": "e740be31-13af-4b0f-a2cc-b83b029dc876",
   "metadata": {},
   "outputs": [
    {
     "name": "stdout",
     "output_type": "stream",
     "text": [
      "Most Specific Hypothesis: ['Yes' '?' '?' '?']\n"
     ]
    }
   ],
   "source": [
    "final_hypo=find_s_algo(data)\n",
    "print(\"Most Specific Hypothesis:\", final_hypo)"
   ]
  },
  {
   "cell_type": "code",
   "execution_count": null,
   "id": "c3a170ce-ef00-4ec6-a403-4c4d016a6cde",
   "metadata": {},
   "outputs": [],
   "source": []
  }
 ],
 "metadata": {
  "kernelspec": {
   "display_name": "Python 3 (ipykernel)",
   "language": "python",
   "name": "python3"
  },
  "language_info": {
   "codemirror_mode": {
    "name": "ipython",
    "version": 3
   },
   "file_extension": ".py",
   "mimetype": "text/x-python",
   "name": "python",
   "nbconvert_exporter": "python",
   "pygments_lexer": "ipython3",
   "version": "3.12.7"
  }
 },
 "nbformat": 4,
 "nbformat_minor": 5
}
